{
  "cells": [
    {
      "cell_type": "markdown",
      "metadata": {
        "id": "v5hvo8QWN-a9"
      },
      "source": [
        "# Installing Whisper\n",
        "\n",
        "The commands below will install the Python packages for this demo."
      ]
    },
    {
      "cell_type": "code",
      "execution_count": 4,
      "metadata": {
        "id": "yqeIrXSau4PY"
      },
      "outputs": [],
      "source": [
        "from IPython import display as ipd"
      ]
    },
    {
      "cell_type": "code",
      "execution_count": 7,
      "metadata": {
        "id": "ZsJUxc0aRsAf"
      },
      "outputs": [],
      "source": [
        "! pip install git+https://github.com/akashmjn/tinydiarize.git\n",
        "! pip install yt-dlp\n",
        "! apt install ffmpeg\n",
        "\n",
        "ipd.clear_output()"
      ]
    },
    {
      "cell_type": "code",
      "execution_count": 8,
      "metadata": {
        "id": "81Q7HsPESx3O"
      },
      "outputs": [],
      "source": [
        "import whisper  # repo is installed with the same name as original repo (for now)"
      ]
    },
    {
      "cell_type": "markdown",
      "metadata": {
        "id": "4QJZ2uZCP8c-"
      },
      "source": [
        "# Fetching from YouTube for demo\n",
        "\n",
        "You can try it on any english video by replacing `yt_url` below. (*See notes at the end as it still has some rough edges.*)"
      ]
    },
    {
      "cell_type": "code",
      "execution_count": 9,
      "metadata": {
        "colab": {
          "base_uri": "https://localhost:8080/",
          "height": 321
        },
        "id": "faPBcBGaQfhw",
        "outputId": "8597da2f-54b4-418a-c73e-f441a773141e"
      },
      "outputs": [
        {
          "data": {
            "image/jpeg": "[encoded data removed]",
            "text/html": [
              "\n",
              "        <iframe\n",
              "            width=\"400\"\n",
              "            height=\"300\"\n",
              "            src=\"https://www.youtube.com/embed/xTQ7vhtp23w\"\n",
              "            frameborder=\"0\"\n",
              "            allowfullscreen\n",
              "            \n",
              "        ></iframe>\n",
              "        "
            ],
            "text/plain": [
              "<IPython.lib.display.YouTubeVideo at 0x7f2353619280>"
            ]
          },
          "execution_count": 9,
          "metadata": {},
          "output_type": "execute_result"
        }
      ],
      "source": [
        "yt_url = \"https://www.youtube.com/watch?v=xTQ7vhtp23w\"  # great clip from the office\n",
        "# yt_url = \"https://www.youtube.com/watch?v=I2ZK3ngNvvI\"    # lex/karpathy clip\n",
        "\n",
        "! yt-dlp -f mp4 {yt_url} -o demo_video.mp4\n",
        "\n",
        "video_id = yt_url.split(\"?v=\")[-1]\n",
        "ipd.YouTubeVideo(video_id)  # render embedded video"
      ]
    },
    {
      "cell_type": "markdown",
      "metadata": {
        "id": "mkxI7-NZTnNZ"
      },
      "source": [
        "# Transcribing with speaker turns\n",
        "\n"
      ]
    },
    {
      "cell_type": "code",
      "execution_count": 9,
      "metadata": {
        "id": "PyMNqmhaer5_"
      },
      "outputs": [],
      "source": [
        "model = whisper.load_model(\"small.en-tdrz\")\n",
        "result = whisper.transcribe(model, \"demo_video.mp4\", verbose=True, condition_on_previous_text=False)\n",
        "# time segments are a bit more stable without prev_text conditioning as it wasn't yet finetuned that way"
      ]
    },
    {
      "cell_type": "code",
      "execution_count": 15,
      "metadata": {
        "id": "rvIao23dwgmF"
      },
      "outputs": [],
      "source": [
        "# start/end times clip the famous section of the office clip (edit to your liking)\n",
        "v_start, v_end = \"00:02:41\", \"00:03:29\"\n",
        "\n",
        "# write to subtitles file and burn into video\n",
        "writer = whisper.utils.get_writer(\"srt\", \".\")\n",
        "writer(result, \"demo_video.mp4\")\n",
        "\n",
        "# burn subtitles into video clip\n",
        "!ffmpeg -i demo_video.mp4 -ss {v_start} -to {v_end} -vf subtitles=demo_video.srt -y demo_video-clip.mp4\n",
        "\n",
        "# burn subtitles into whole video\n",
        "# !ffmpeg -i demo_video.mp4 -vf subtitles=demo_video.srt -y demo_video-subburn.mp4\n",
        "\n",
        "ipd.clear_output()"
      ]
    },
    {
      "cell_type": "code",
      "execution_count": null,
      "metadata": {
        "id": "o1UwVVr96X-K"
      },
      "outputs": [],
      "source": [
        "# render the video with generated transcript\n",
        "ipd.Video(\"demo_video-clip.mp4\", embed=True)"
      ]
    },
    {
      "cell_type": "markdown",
      "metadata": {
        "id": "MITNzQiK14UU"
      },
      "source": [
        "# Performance notes\n",
        "\n",
        "As the current `small.en-tdrz` checkpoint is still an early prototype, these are some known rough edges:\n",
        "- Speaker turns are predicted with near-perfect precision, but lower recall.\n",
        "- Timestamp behavior is very different, and there can tend to be quite long time segments.\n",
        "- WER appears fairly similar to the original `small.en`, however hasn't been as extensively tested.\n",
        "- I noticed an odd tendency to occasionally delete a primary speakers sentences (e.g. Lex's sentences in the Lex/Karpathy clip).\n",
        "\n",
        "I suspect many these are due to quirks of the finetuning data/setup and will progressively improve as finetuning evolves. See `/tdrz_dev` on the repo for a more detailed look at performance."
      ]
    },
    {
      "cell_type": "code",
      "execution_count": null,
      "metadata": {
        "id": "ckuxtB-o5iVC"
      },
      "outputs": [],
      "source": []
    }
  ],
  "metadata": {
    "accelerator": "GPU",
    "colab": {
      "provenance": []
    },
    "gpuClass": "standard",
    "kernelspec": {
      "display_name": "Python 3.9.16 ('whisper-vox')",
      "language": "python",
      "name": "python3"
    },
    "language_info": {
      "codemirror_mode": {
        "name": "ipython",
        "version": 3
      },
      "file_extension": ".py",
      "mimetype": "text/x-python",
      "name": "python",
      "nbconvert_exporter": "python",
      "pygments_lexer": "ipython3",
      "version": "3.9.16"
    },
    "vscode": {
      "interpreter": {
        "hash": "a4055415883ccc40d93aa7008ba38b74af943aad60153343b63327b9ef62b431"
      }
    }
  },
  "nbformat": 4,
  "nbformat_minor": 0
}
